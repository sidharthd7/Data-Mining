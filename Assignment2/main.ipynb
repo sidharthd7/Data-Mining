{
 "cells": [
  {
   "cell_type": "markdown",
   "metadata": {},
   "source": [
    "Sidharth Dhawan | 102218069 | BS3"
   ]
  },
  {
   "cell_type": "markdown",
   "metadata": {},
   "source": [
    "Part I: Based on Feature Selection, Cleaning, and Preprocessing to Construct an Input from Data\n",
    "Source"
   ]
  },
  {
   "cell_type": "markdown",
   "metadata": {},
   "source": [
    "Import Libraries"
   ]
  },
  {
   "cell_type": "code",
   "execution_count": 61,
   "metadata": {},
   "outputs": [],
   "source": [
    "import pandas as pd\n",
    "import numpy as np"
   ]
  },
  {
   "cell_type": "markdown",
   "metadata": {},
   "source": [
    "Load Dataset"
   ]
  },
  {
   "cell_type": "code",
   "execution_count": 62,
   "metadata": {},
   "outputs": [
    {
     "name": "stdout",
     "output_type": "stream",
     "text": [
      "   CustomerID Title FirstName MiddleName  LastName Suffix  \\\n",
      "0       21173   NaN      Chad          C      Yuan    NaN   \n",
      "1       13249   NaN      Ryan        NaN     Perry    NaN   \n",
      "2       29350   NaN     Julia        NaN  Thompson    NaN   \n",
      "3       13503   NaN  Theodore        NaN     Gomez    NaN   \n",
      "4       22803   NaN  Marshall          J      Shan    NaN   \n",
      "\n",
      "             AddressLine1 AddressLine2         City    StateProvinceName  ...  \\\n",
      "0      7090 C. Mount Hood          NaN   Wollongong      New South Wales  ...   \n",
      "1     3651 Willow Lake Rd          NaN      Shawnee     British Columbia  ...   \n",
      "2  1774 Tice Valley Blvd.          NaN  West Covina           California  ...   \n",
      "3         2103 Baldwin Dr          NaN    Liverpool              England  ...   \n",
      "4         Am Gallberg 234          NaN        Werne  Nordrhein-Westfalen  ...   \n",
      "\n",
      "         Education      Occupation Gender MaritalStatus HomeOwnerFlag  \\\n",
      "0        Bachelors        Clerical      M             M             1   \n",
      "1  Partial College        Clerical      M             M             1   \n",
      "2        Bachelors        Clerical      F             S             0   \n",
      "3  Partial College  Skilled Manual      M             M             1   \n",
      "4  Partial College  Skilled Manual      M             S             1   \n",
      "\n",
      "  NumberCarsOwned NumberChildrenAtHome TotalChildren  YearlyIncome  \\\n",
      "0               3                    0             1         81916   \n",
      "1               2                    1             2         81076   \n",
      "2               3                    0             0         86387   \n",
      "3               2                    1             2         61481   \n",
      "4               1                    0             0         51804   \n",
      "\n",
      "   LastUpdated  \n",
      "0   2017-03-06  \n",
      "1   2017-03-06  \n",
      "2   2017-03-06  \n",
      "3   2017-03-06  \n",
      "4   2017-03-06  \n",
      "\n",
      "[5 rows x 24 columns]\n",
      "   CustomerID  BikeBuyer  AvgMonthSpend\n",
      "0       21173          1          50.97\n",
      "1       13249          1          53.11\n",
      "2       29350          1          54.08\n",
      "3       13503          1          56.93\n",
      "4       22803          1          55.41\n"
     ]
    }
   ],
   "source": [
    "customers = pd.read_csv('AWCustomers.csv')\n",
    "sales = pd.read_csv('AWSales.csv')\n",
    "\n",
    "print(customers.head())\n",
    "print(sales.head())\n"
   ]
  },
  {
   "cell_type": "markdown",
   "metadata": {},
   "source": [
    "(a) Examine the values of each attribute and Select a set of attributes only that would affect to predict\n",
    "future bike buyers to create your input for data mining algorithms. Remove all the unnecessary\n",
    "attributes. (Select features just by analysis). \n"
   ]
  },
  {
   "cell_type": "markdown",
   "metadata": {},
   "source": [
    "Manually filtering data by dropping irrelevant columns"
   ]
  },
  {
   "cell_type": "code",
   "execution_count": 63,
   "metadata": {},
   "outputs": [],
   "source": [
    "filtered_customers = customers[['CustomerID', 'PostalCode', 'Occupation', 'HomeOwnerFlag', 'NumberCarsOwned', 'NumberChildrenAtHome', 'YearlyIncome']]"
   ]
  },
  {
   "cell_type": "markdown",
   "metadata": {},
   "source": [
    "(b) Create a new Data Frame with the selected attributes only"
   ]
  },
  {
   "cell_type": "code",
   "execution_count": 64,
   "metadata": {},
   "outputs": [
    {
     "data": {
      "text/html": [
       "<div>\n",
       "<style scoped>\n",
       "    .dataframe tbody tr th:only-of-type {\n",
       "        vertical-align: middle;\n",
       "    }\n",
       "\n",
       "    .dataframe tbody tr th {\n",
       "        vertical-align: top;\n",
       "    }\n",
       "\n",
       "    .dataframe thead th {\n",
       "        text-align: right;\n",
       "    }\n",
       "</style>\n",
       "<table border=\"1\" class=\"dataframe\">\n",
       "  <thead>\n",
       "    <tr style=\"text-align: right;\">\n",
       "      <th></th>\n",
       "      <th>CustomerID</th>\n",
       "      <th>PostalCode</th>\n",
       "      <th>Occupation</th>\n",
       "      <th>HomeOwnerFlag</th>\n",
       "      <th>NumberCarsOwned</th>\n",
       "      <th>NumberChildrenAtHome</th>\n",
       "      <th>YearlyIncome</th>\n",
       "      <th>BikeBuyer</th>\n",
       "      <th>AvgMonthSpend</th>\n",
       "    </tr>\n",
       "  </thead>\n",
       "  <tbody>\n",
       "    <tr>\n",
       "      <th>0</th>\n",
       "      <td>21173</td>\n",
       "      <td>2500</td>\n",
       "      <td>Clerical</td>\n",
       "      <td>1</td>\n",
       "      <td>3</td>\n",
       "      <td>0</td>\n",
       "      <td>81916</td>\n",
       "      <td>1</td>\n",
       "      <td>50.97</td>\n",
       "    </tr>\n",
       "    <tr>\n",
       "      <th>1</th>\n",
       "      <td>13249</td>\n",
       "      <td>V9B 2C3</td>\n",
       "      <td>Clerical</td>\n",
       "      <td>1</td>\n",
       "      <td>2</td>\n",
       "      <td>1</td>\n",
       "      <td>81076</td>\n",
       "      <td>1</td>\n",
       "      <td>53.11</td>\n",
       "    </tr>\n",
       "    <tr>\n",
       "      <th>2</th>\n",
       "      <td>29350</td>\n",
       "      <td>91791</td>\n",
       "      <td>Clerical</td>\n",
       "      <td>0</td>\n",
       "      <td>3</td>\n",
       "      <td>0</td>\n",
       "      <td>86387</td>\n",
       "      <td>1</td>\n",
       "      <td>54.08</td>\n",
       "    </tr>\n",
       "    <tr>\n",
       "      <th>3</th>\n",
       "      <td>13503</td>\n",
       "      <td>L4 4HB</td>\n",
       "      <td>Skilled Manual</td>\n",
       "      <td>1</td>\n",
       "      <td>2</td>\n",
       "      <td>1</td>\n",
       "      <td>61481</td>\n",
       "      <td>1</td>\n",
       "      <td>56.93</td>\n",
       "    </tr>\n",
       "    <tr>\n",
       "      <th>4</th>\n",
       "      <td>22803</td>\n",
       "      <td>59368</td>\n",
       "      <td>Skilled Manual</td>\n",
       "      <td>1</td>\n",
       "      <td>1</td>\n",
       "      <td>0</td>\n",
       "      <td>51804</td>\n",
       "      <td>1</td>\n",
       "      <td>55.41</td>\n",
       "    </tr>\n",
       "  </tbody>\n",
       "</table>\n",
       "</div>"
      ],
      "text/plain": [
       "   CustomerID PostalCode      Occupation  HomeOwnerFlag  NumberCarsOwned  \\\n",
       "0       21173       2500        Clerical              1                3   \n",
       "1       13249    V9B 2C3        Clerical              1                2   \n",
       "2       29350      91791        Clerical              0                3   \n",
       "3       13503     L4 4HB  Skilled Manual              1                2   \n",
       "4       22803      59368  Skilled Manual              1                1   \n",
       "\n",
       "   NumberChildrenAtHome  YearlyIncome  BikeBuyer  AvgMonthSpend  \n",
       "0                     0         81916          1          50.97  \n",
       "1                     1         81076          1          53.11  \n",
       "2                     0         86387          1          54.08  \n",
       "3                     1         61481          1          56.93  \n",
       "4                     0         51804          1          55.41  "
      ]
     },
     "execution_count": 64,
     "metadata": {},
     "output_type": "execute_result"
    }
   ],
   "source": [
    "merged_data = pd.merge(filtered_customers, sales, on='CustomerID', how='inner')\n",
    "\n",
    "merged_data.to_csv('merged_data.csv', index=False)\n",
    "merged_data.head()"
   ]
  },
  {
   "cell_type": "markdown",
   "metadata": {},
   "source": [
    "(c) Determine a Data value type (Discrete, or Continuous, then Nominal, Ordinal, Interval, Ratio) of\n",
    "each attribute in your selection to identify preprocessing tasks to create input for your data mining. "
   ]
  },
  {
   "cell_type": "code",
   "execution_count": 65,
   "metadata": {},
   "outputs": [
    {
     "name": "stdout",
     "output_type": "stream",
     "text": [
      "Column data types:\n",
      "CustomerID                int64\n",
      "PostalCode               object\n",
      "Occupation               object\n",
      "HomeOwnerFlag             int64\n",
      "NumberCarsOwned           int64\n",
      "NumberChildrenAtHome      int64\n",
      "YearlyIncome              int64\n",
      "BikeBuyer                 int64\n",
      "AvgMonthSpend           float64\n",
      "dtype: object\n",
      "Attribute: CustomerID, Data Type: Discrete (Nominal)\n",
      "Attribute: Education, Data Type: Categorical (Ordinal)\n",
      "Attribute: Occupation, Data Type: Categorical (Nominal)\n",
      "Attribute: Gender, Data Type: Binary (Nominal)\n",
      "Attribute: MaritalStatus, Data Type: Binary (Nominal)\n",
      "Attribute: HomeOwnerFlag, Data Type: Binary (Nominal)\n",
      "Attribute: NumberCarsOwned, Data Type: Discrete (Ordinal)\n",
      "Attribute: NumberChildrenAtHome, Data Type: Discrete (Ordinal)\n",
      "Attribute: TotalChildren, Data Type: Discrete (Ordinal)\n",
      "Attribute: YearlyIncome, Data Type: Continuous (Ratio)\n",
      "Attribute: BikeBuyer, Data Type: Binary (Nominal)\n",
      "Attribute: AvgMonthSpend, Data Type: Continuous (Ratio)\n"
     ]
    }
   ],
   "source": [
    "data3 = pd.read_csv('merged_data.csv')\n",
    "\n",
    "print(\"Column data types:\")\n",
    "print(data3.dtypes)\n",
    "\n",
    "\n",
    "data_types = {\n",
    "    'CustomerID': 'Discrete (Nominal)',\n",
    "    'Education': 'Categorical (Ordinal)',\n",
    "    'Occupation': 'Categorical (Nominal)',\n",
    "    'Gender': 'Binary (Nominal)',\n",
    "    'MaritalStatus': 'Binary (Nominal)',\n",
    "    'HomeOwnerFlag': 'Binary (Nominal)',\n",
    "    'NumberCarsOwned': 'Discrete (Ordinal)',\n",
    "    'NumberChildrenAtHome': 'Discrete (Ordinal)',\n",
    "    'TotalChildren': 'Discrete (Ordinal)',\n",
    "    'YearlyIncome': 'Continuous (Ratio)',\n",
    "    'BikeBuyer': 'Binary (Nominal)',\n",
    "    'AvgMonthSpend': 'Continuous (Ratio)'\n",
    "}\n",
    "\n",
    "for col, dtype in data_types.items():\n",
    "    print(f\"Attribute: {col}, Data Type: {dtype}\")\n"
   ]
  },
  {
   "cell_type": "markdown",
   "metadata": {},
   "source": [
    "Part II: Data Preprocessing and Transformation\n",
    "\n",
    "Depending on the data type of each attribute, transform each object from your preprocessed data.\n",
    "Use all the data rows (~= 18000 rows) with the selected features as input to apply all the tasks below, do\n",
    "not perform each task on the smaller data set that you got from your random sampling result."
   ]
  },
  {
   "cell_type": "markdown",
   "metadata": {},
   "source": [
    "Importing necessary modules"
   ]
  },
  {
   "cell_type": "code",
   "execution_count": 66,
   "metadata": {},
   "outputs": [],
   "source": [
    "from sklearn.impute import SimpleImputer\n",
    "from sklearn.preprocessing import MinMaxScaler\n",
    "from sklearn.preprocessing import StandardScaler"
   ]
  },
  {
   "cell_type": "markdown",
   "metadata": {},
   "source": [
    "(a) Handling Null values"
   ]
  },
  {
   "cell_type": "code",
   "execution_count": 67,
   "metadata": {},
   "outputs": [
    {
     "name": "stdout",
     "output_type": "stream",
     "text": [
      "CustomerID              0\n",
      "PostalCode              0\n",
      "Occupation              0\n",
      "HomeOwnerFlag           0\n",
      "NumberCarsOwned         0\n",
      "NumberChildrenAtHome    0\n",
      "YearlyIncome            0\n",
      "BikeBuyer               0\n",
      "AvgMonthSpend           0\n",
      "dtype: int64\n"
     ]
    }
   ],
   "source": [
    "# Categorical \n",
    "categorical_cols = ['Occupation']\n",
    "imputer_mode = SimpleImputer(strategy='most_frequent')\n",
    "merged_data[categorical_cols] = imputer_mode.fit_transform(merged_data[categorical_cols])\n",
    "\n",
    "# Numerical \n",
    "numerical_cols = ['YearlyIncome', 'NumberCarsOwned', 'NumberChildrenAtHome']\n",
    "imputer_mean = SimpleImputer(strategy='mean')\n",
    "merged_data[numerical_cols] = imputer_mean.fit_transform(merged_data[numerical_cols])\n",
    "\n",
    "# remaining NULL Values\n",
    "print(merged_data.isnull().sum())\n"
   ]
  },
  {
   "cell_type": "markdown",
   "metadata": {},
   "source": [
    "(b) Normalization"
   ]
  },
  {
   "cell_type": "code",
   "execution_count": 68,
   "metadata": {},
   "outputs": [
    {
     "name": "stdout",
     "output_type": "stream",
     "text": [
      "   YearlyIncome  AvgMonthSpend\n",
      "0      0.496842       0.324210\n",
      "1      0.489453       0.425201\n",
      "2      0.536172       0.470977\n",
      "3      0.317083       0.605474\n",
      "4      0.231958       0.533742\n"
     ]
    }
   ],
   "source": [
    "# Normalize YearlyIncome and AvgMonthSpend\n",
    "scaler = MinMaxScaler()\n",
    "merged_data[['YearlyIncome', 'AvgMonthSpend']] = scaler.fit_transform(merged_data[['YearlyIncome', 'AvgMonthSpend']])\n",
    "\n",
    "# Display normalized columns\n",
    "print(merged_data[['YearlyIncome', 'AvgMonthSpend']].head())"
   ]
  },
  {
   "cell_type": "markdown",
   "metadata": {},
   "source": [
    "(c) Discretization (Binning) on Continuous attributes or Categorical Attributes with too many different values"
   ]
  },
  {
   "cell_type": "code",
   "execution_count": 69,
   "metadata": {},
   "outputs": [
    {
     "name": "stdout",
     "output_type": "stream",
     "text": [
      "   YearlyIncome IncomeBin\n",
      "0      0.496842    Medium\n",
      "1      0.489453    Medium\n",
      "2      0.536172    Medium\n",
      "3      0.317083       Low\n",
      "4      0.231958       Low\n",
      "IncomeBin\n",
      "Low       9436\n",
      "Medium    4464\n",
      "High      4461\n",
      "Name: count, dtype: int64\n"
     ]
    }
   ],
   "source": [
    "# Converting the continuous attribute (Yearly Income) to Discrete -> Low, Medium, High \n",
    "merged_data['IncomeBin'] = pd.cut(merged_data['YearlyIncome'], bins=3, labels=['Low', 'Medium', 'High'])\n",
    "\n",
    "# binned data\n",
    "print(merged_data[['YearlyIncome', 'IncomeBin']].head())\n",
    "\n",
    "# Check the number of occurrences in each bin\n",
    "income_bin_counts = merged_data['IncomeBin'].value_counts()\n",
    "\n",
    "print(income_bin_counts)"
   ]
  },
  {
   "cell_type": "markdown",
   "metadata": {},
   "source": [
    "(d) Standardization/Normalization"
   ]
  },
  {
   "cell_type": "code",
   "execution_count": 70,
   "metadata": {},
   "outputs": [
    {
     "name": "stdout",
     "output_type": "stream",
     "text": [
      "   YearlyIncome  AvgMonthSpend\n",
      "0      0.298555      -0.231774\n",
      "1      0.271180       0.390755\n",
      "2      0.444261       0.672929\n",
      "3     -0.367401       1.501999\n",
      "4     -0.682765       1.059828\n"
     ]
    }
   ],
   "source": [
    "# Normalizing YearlyIncome and AvgMonthSpend\n",
    "scaler = StandardScaler()\n",
    "merged_data[['YearlyIncome', 'AvgMonthSpend']] = scaler.fit_transform(merged_data[['YearlyIncome', 'AvgMonthSpend']])\n",
    "\n",
    "print(merged_data[['YearlyIncome', 'AvgMonthSpend']].head())"
   ]
  },
  {
   "cell_type": "markdown",
   "metadata": {},
   "source": [
    "(e) Binarization (One Hot Encoding) "
   ]
  },
  {
   "cell_type": "code",
   "execution_count": 71,
   "metadata": {},
   "outputs": [],
   "source": [
    "# Convert non-numeric data to numeric using one-hot encoding\n",
    "merged_data = pd.get_dummies(merged_data)\n",
    "\n",
    "# Ensure all values are numeric\n",
    "merged_data = merged_data.apply(pd.to_numeric)\n"
   ]
  },
  {
   "cell_type": "markdown",
   "metadata": {},
   "source": [
    "Part III: Calculating Proximity / Correlation Analysis of two features.\n",
    "\n",
    "Make sure each attribute is transformed in a same scale for numeric attributes and Binarization for each\n",
    "nominal attribute, and each discretized numeric attribute to standardization. Make sure to apply a correct\n",
    "similarity measure for nominal (one hot encoding)/binary attributes and numeric attributes respectively. "
   ]
  },
  {
   "cell_type": "markdown",
   "metadata": {},
   "source": [
    "(a) Calculate Similarity in Simple Matching, Jaccard Similarity, and Cosine Similarity between two following objects of your transformed input data."
   ]
  },
  {
   "cell_type": "code",
   "execution_count": 72,
   "metadata": {},
   "outputs": [
    {
     "name": "stdout",
     "output_type": "stream",
     "text": [
      "Simple Matching Coefficient: 0.9792899408284024\n",
      "Jaccard Similarity: 0.8121395221093106\n",
      "Cosine Similarity: 0.999999990711113\n"
     ]
    }
   ],
   "source": [
    "from sklearn.metrics import jaccard_score\n",
    "from scipy.spatial.distance import cosine\n",
    "\n",
    "# Simple Matching Coefficient (SMC)\n",
    "smc = sum(merged_data.iloc[0] == merged_data.iloc[1]) / len(merged_data.iloc[0])\n",
    "print(\"Simple Matching Coefficient:\", smc)\n",
    "\n",
    "# Jaccard Similarity (for binary features only)\n",
    "# Convert DataFrame row values to NumPy arrays for Jaccard\n",
    "row1, row2 = merged_data.iloc[0].values, merged_data.iloc[1].values\n",
    "\n",
    "# Ensure binary values (0/1) for Jaccard similarity\n",
    "row1_binary = np.where(row1 > 0, 1, 0)\n",
    "row2_binary = np.where(row2 > 0, 1, 0)\n",
    "\n",
    "jaccard_sim = jaccard_score(row1_binary, row2_binary, average='macro')\n",
    "print(\"Jaccard Similarity:\", jaccard_sim)\n",
    "\n",
    "# Cosine Similarity\n",
    "cosine_sim = 1 - cosine(row1, row2)\n",
    "print(\"Cosine Similarity:\", cosine_sim)"
   ]
  },
  {
   "cell_type": "markdown",
   "metadata": {},
   "source": [
    "(b) Calculate Correlation between two features Commute Distance and Yearly Income "
   ]
  },
  {
   "cell_type": "code",
   "execution_count": 73,
   "metadata": {},
   "outputs": [
    {
     "name": "stdout",
     "output_type": "stream",
     "text": [
      "Correlation:  0.5301257155563448\n"
     ]
    }
   ],
   "source": [
    "correlation = merged_data['AvgMonthSpend'].corr(merged_data['YearlyIncome'])\n",
    "print(\"Correlation: \", correlation)"
   ]
  }
 ],
 "metadata": {
  "kernelspec": {
   "display_name": "Python 3",
   "language": "python",
   "name": "python3"
  },
  "language_info": {
   "codemirror_mode": {
    "name": "ipython",
    "version": 3
   },
   "file_extension": ".py",
   "mimetype": "text/x-python",
   "name": "python",
   "nbconvert_exporter": "python",
   "pygments_lexer": "ipython3",
   "version": "3.11.9"
  }
 },
 "nbformat": 4,
 "nbformat_minor": 2
}
